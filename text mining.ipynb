{
 "cells": [
  {
   "cell_type": "code",
   "execution_count": 1,
   "id": "21aad29d-f650-4488-9050-ce6bfee568ae",
   "metadata": {},
   "outputs": [],
   "source": [
    "import pandas as pd\n",
    "import numpy as np\n",
    "import matplotlib.pyplot as plt\n"
   ]
  },
  {
   "cell_type": "code",
   "execution_count": 7,
   "id": "9e302c51-1bc1-41c6-8de4-55190d25255b",
   "metadata": {
    "tags": []
   },
   "outputs": [],
   "source": [
    "# Import nltk\n",
    "import nltk\n",
    "from nltk.corpus import stopwords\n",
    "from nltk.tokenize import RegexpTokenizer\n",
    "from nltk.stem import WordNetLemmatizer\n",
    "from nltk.stem.porter import PorterStemmer\n",
    "from bs4 import BeautifulSoup\n",
    "import re\n",
    "\n",
    "# Remove HTML\n",
    "def remove_html(text):\n",
    "    soup=BeautifulSoup(text, 'lxml')\n",
    "    html_free=soup.get_text()\n",
    "    return html_free\n",
    "\n",
    "# Remove URL using re\n",
    "def remove_urls (text):\n",
    "    text = re.sub(r'(https|http)?:\\/\\/(\\w|\\.|\\/|\\?|\\=|\\&|\\%)*\\b', '', text, flags=re.MULTILINE)\n",
    "    return(text)\n",
    "\n",
    "# Remove punctuation and Tokenization\n",
    "tokenizer=RegexpTokenizer(r'\\w+')\n",
    "\n",
    "# Remove stop words\n",
    "def remove_stopwords(text):\n",
    "    words=[w for w in text if w not in stopwords.words(\"english\")]\n",
    "    return words\n",
    "\n",
    "# Lemmatizer\n",
    "lemmatizer=WordNetLemmatizer()\n",
    "def word_lemmatizer(text):\n",
    "    lem_text = [lemmatizer.lemmatize(i) for i in text]\n",
    "    return lem_text\n",
    "\n",
    "# Instantiate Stemmer\n",
    "stemmer=PorterStemmer()\n",
    "def word_stemmer(text):\n",
    "    stem_text = \" \".join([stemmer.stem(i) for i in text])\n",
    "    return stem_text\n",
    "\n",
    "# Remove punctuation\n",
    "import string\n",
    "def remove_punctuation(text):\n",
    "    no_punct=\" \".join([c for c in text if c not in string.punctuation])\n",
    "    return no_punct"
   ]
  },
  {
   "cell_type": "code",
   "execution_count": 2,
   "id": "7e721d55-bcc1-490b-b548-1b4cdadd2474",
   "metadata": {},
   "outputs": [],
   "source": [
    "pd.set_option('display.max_colwidth', 1000)"
   ]
  },
  {
   "cell_type": "code",
   "execution_count": 17,
   "id": "d8f7140e-0130-4baa-88fa-cd3176735e8c",
   "metadata": {
    "tags": []
   },
   "outputs": [
    {
     "data": {
      "text/html": [
       "<div>\n",
       "<style scoped>\n",
       "    .dataframe tbody tr th:only-of-type {\n",
       "        vertical-align: middle;\n",
       "    }\n",
       "\n",
       "    .dataframe tbody tr th {\n",
       "        vertical-align: top;\n",
       "    }\n",
       "\n",
       "    .dataframe thead th {\n",
       "        text-align: right;\n",
       "    }\n",
       "</style>\n",
       "<table border=\"1\" class=\"dataframe\">\n",
       "  <thead>\n",
       "    <tr style=\"text-align: right;\">\n",
       "      <th></th>\n",
       "      <th>0</th>\n",
       "      <th>1</th>\n",
       "      <th>2</th>\n",
       "    </tr>\n",
       "  </thead>\n",
       "  <tbody>\n",
       "    <tr>\n",
       "      <th>0</th>\n",
       "      <td>5.862670e+17</td>\n",
       "      <td>Thu Apr 09 20:37:18 +0000 2015</td>\n",
       "      <td>Tougher Vaccine Law In Calif. Clears First Hurdle http://khne.ws/1GQdDro http://pbs.twimg.com/media/CCLWazbUEAAmvjH.jpg</td>\n",
       "    </tr>\n",
       "    <tr>\n",
       "      <th>1</th>\n",
       "      <td>5.862600e+17</td>\n",
       "      <td>Thu Apr 09 20:11:29 +0000 2015</td>\n",
       "      <td>A new sort of extracurricular activity: seeing patients. http://khne.ws/1ceRuaZ http://pbs.twimg.com/media/CCLQgiFUIAAC7nJ.jpg</td>\n",
       "    </tr>\n",
       "    <tr>\n",
       "      <th>2</th>\n",
       "      <td>5.862390e+17</td>\n",
       "      <td>Thu Apr 09 18:46:24 +0000 2015</td>\n",
       "      <td>Houston firefighters have another tool at their disposal when answering calls: digital doctors http://khne.ws/1NfQjsp http://pbs.twimg.com/media/CCK9CYoUsAE4PP8.jpg</td>\n",
       "    </tr>\n",
       "    <tr>\n",
       "      <th>3</th>\n",
       "      <td>5.861820e+17</td>\n",
       "      <td>Thu Apr 09 15:00:25 +0000 2015</td>\n",
       "      <td>Will #Montana expand its #Medicaid program? Some moderates there have revived the idea: http://khne.ws/1Do7UrB http://pbs.twimg.com/media/CCKJT7DUAAABcJj.jpg</td>\n",
       "    </tr>\n",
       "    <tr>\n",
       "      <th>4</th>\n",
       "      <td>5.861590e+17</td>\n",
       "      <td>Thu Apr 09 13:30:44 +0000 2015</td>\n",
       "      <td>Rand Paul's campaign first day: abortion and the budget: http://khne.ws/1y8aJwC</td>\n",
       "    </tr>\n",
       "  </tbody>\n",
       "</table>\n",
       "</div>"
      ],
      "text/plain": [
       "              0                               1  \\\n",
       "0  5.862670e+17  Thu Apr 09 20:37:18 +0000 2015   \n",
       "1  5.862600e+17  Thu Apr 09 20:11:29 +0000 2015   \n",
       "2  5.862390e+17  Thu Apr 09 18:46:24 +0000 2015   \n",
       "3  5.861820e+17  Thu Apr 09 15:00:25 +0000 2015   \n",
       "4  5.861590e+17  Thu Apr 09 13:30:44 +0000 2015   \n",
       "\n",
       "                                                                                                                                                                      2  \n",
       "0                                               Tougher Vaccine Law In Calif. Clears First Hurdle http://khne.ws/1GQdDro http://pbs.twimg.com/media/CCLWazbUEAAmvjH.jpg  \n",
       "1                                        A new sort of extracurricular activity: seeing patients. http://khne.ws/1ceRuaZ http://pbs.twimg.com/media/CCLQgiFUIAAC7nJ.jpg  \n",
       "2  Houston firefighters have another tool at their disposal when answering calls: digital doctors http://khne.ws/1NfQjsp http://pbs.twimg.com/media/CCK9CYoUsAE4PP8.jpg  \n",
       "3         Will #Montana expand its #Medicaid program? Some moderates there have revived the idea: http://khne.ws/1Do7UrB http://pbs.twimg.com/media/CCKJT7DUAAABcJj.jpg  \n",
       "4                                                                                       Rand Paul's campaign first day: abortion and the budget: http://khne.ws/1y8aJwC  "
      ]
     },
     "execution_count": 17,
     "metadata": {},
     "output_type": "execute_result"
    }
   ],
   "source": [
    "Kaiser=pd.read_csv('KaiserHealthNews.csv', encoding= 'unicode_escape',header=None)\n",
    "Kaiser=Kaiser.drop(Kaiser.columns[3:8], axis=1)\n",
    "Kaiser.head()"
   ]
  },
  {
   "cell_type": "code",
   "execution_count": 18,
   "id": "f08838dc-12ed-4b4b-941c-520c66000d7e",
   "metadata": {
    "tags": []
   },
   "outputs": [
    {
     "data": {
      "text/html": [
       "<div>\n",
       "<style scoped>\n",
       "    .dataframe tbody tr th:only-of-type {\n",
       "        vertical-align: middle;\n",
       "    }\n",
       "\n",
       "    .dataframe tbody tr th {\n",
       "        vertical-align: top;\n",
       "    }\n",
       "\n",
       "    .dataframe thead th {\n",
       "        text-align: right;\n",
       "    }\n",
       "</style>\n",
       "<table border=\"1\" class=\"dataframe\">\n",
       "  <thead>\n",
       "    <tr style=\"text-align: right;\">\n",
       "      <th></th>\n",
       "      <th>ReviewID</th>\n",
       "      <th>ReviewTime</th>\n",
       "      <th>Review</th>\n",
       "    </tr>\n",
       "  </thead>\n",
       "  <tbody>\n",
       "    <tr>\n",
       "      <th>0</th>\n",
       "      <td>5.862670e+17</td>\n",
       "      <td>Thu Apr 09 20:37:18 +0000 2015</td>\n",
       "      <td>Tougher Vaccine Law In Calif. Clears First Hurdle http://khne.ws/1GQdDro http://pbs.twimg.com/media/CCLWazbUEAAmvjH.jpg</td>\n",
       "    </tr>\n",
       "    <tr>\n",
       "      <th>1</th>\n",
       "      <td>5.862600e+17</td>\n",
       "      <td>Thu Apr 09 20:11:29 +0000 2015</td>\n",
       "      <td>A new sort of extracurricular activity: seeing patients. http://khne.ws/1ceRuaZ http://pbs.twimg.com/media/CCLQgiFUIAAC7nJ.jpg</td>\n",
       "    </tr>\n",
       "    <tr>\n",
       "      <th>2</th>\n",
       "      <td>5.862390e+17</td>\n",
       "      <td>Thu Apr 09 18:46:24 +0000 2015</td>\n",
       "      <td>Houston firefighters have another tool at their disposal when answering calls: digital doctors http://khne.ws/1NfQjsp http://pbs.twimg.com/media/CCK9CYoUsAE4PP8.jpg</td>\n",
       "    </tr>\n",
       "    <tr>\n",
       "      <th>3</th>\n",
       "      <td>5.861820e+17</td>\n",
       "      <td>Thu Apr 09 15:00:25 +0000 2015</td>\n",
       "      <td>Will #Montana expand its #Medicaid program? Some moderates there have revived the idea: http://khne.ws/1Do7UrB http://pbs.twimg.com/media/CCKJT7DUAAABcJj.jpg</td>\n",
       "    </tr>\n",
       "    <tr>\n",
       "      <th>4</th>\n",
       "      <td>5.861590e+17</td>\n",
       "      <td>Thu Apr 09 13:30:44 +0000 2015</td>\n",
       "      <td>Rand Paul's campaign first day: abortion and the budget: http://khne.ws/1y8aJwC</td>\n",
       "    </tr>\n",
       "  </tbody>\n",
       "</table>\n",
       "</div>"
      ],
      "text/plain": [
       "       ReviewID                      ReviewTime  \\\n",
       "0  5.862670e+17  Thu Apr 09 20:37:18 +0000 2015   \n",
       "1  5.862600e+17  Thu Apr 09 20:11:29 +0000 2015   \n",
       "2  5.862390e+17  Thu Apr 09 18:46:24 +0000 2015   \n",
       "3  5.861820e+17  Thu Apr 09 15:00:25 +0000 2015   \n",
       "4  5.861590e+17  Thu Apr 09 13:30:44 +0000 2015   \n",
       "\n",
       "                                                                                                                                                                 Review  \n",
       "0                                               Tougher Vaccine Law In Calif. Clears First Hurdle http://khne.ws/1GQdDro http://pbs.twimg.com/media/CCLWazbUEAAmvjH.jpg  \n",
       "1                                        A new sort of extracurricular activity: seeing patients. http://khne.ws/1ceRuaZ http://pbs.twimg.com/media/CCLQgiFUIAAC7nJ.jpg  \n",
       "2  Houston firefighters have another tool at their disposal when answering calls: digital doctors http://khne.ws/1NfQjsp http://pbs.twimg.com/media/CCK9CYoUsAE4PP8.jpg  \n",
       "3         Will #Montana expand its #Medicaid program? Some moderates there have revived the idea: http://khne.ws/1Do7UrB http://pbs.twimg.com/media/CCKJT7DUAAABcJj.jpg  \n",
       "4                                                                                       Rand Paul's campaign first day: abortion and the budget: http://khne.ws/1y8aJwC  "
      ]
     },
     "execution_count": 18,
     "metadata": {},
     "output_type": "execute_result"
    }
   ],
   "source": [
    "# Named Columns for Kaiser_df\n",
    "Kaiser_df[\"ReviewID\"]=Kaiser[0]\n",
    "Kaiser_df[\"ReviewTime\"]=Kaiser[1]\n",
    "Kaiser_df[\"Review\"]=Kaiser[2]\n",
    "#Kaiser_df.drop(Kaiser.columns[0:3], axis=1, inplace=True)\n",
    "Kaiser_df.head()"
   ]
  },
  {
   "cell_type": "code",
   "execution_count": 21,
   "id": "a0d1649c-40dd-4fb7-b6fa-e0a9a12b5066",
   "metadata": {},
   "outputs": [
    {
     "data": {
      "text/plain": [
       "0                                                 Tougher Vaccine Law In Calif. Clears First Hurdle  \n",
       "1                                          A new sort of extracurricular activity: seeing patients.  \n",
       "2    Houston firefighters have another tool at their disposal when answering calls: digital doctors  \n",
       "3           Will #Montana expand its #Medicaid program? Some moderates there have revived the idea:  \n",
       "4                                           Rand Paul's campaign first day: abortion and the budget: \n",
       "Name: Review, dtype: object"
      ]
     },
     "execution_count": 21,
     "metadata": {},
     "output_type": "execute_result"
    }
   ],
   "source": [
    "Kaiser_df[\"Review\"] = Kaiser_df[\"Review\"].apply(lambda x: remove_urls(x))\n",
    "Kaiser_df[\"Review\"].head()"
   ]
  },
  {
   "cell_type": "code",
   "execution_count": 22,
   "id": "cc13cc79-f42e-4571-9e4b-f00a2e33d27c",
   "metadata": {
    "tags": []
   },
   "outputs": [
    {
     "data": {
      "text/plain": [
       "0                                                      [tougher, vaccine, law, in, calif, clears, first, hurdle]\n",
       "1                                                [a, new, sort, of, extracurricular, activity, seeing, patients]\n",
       "2    [houston, firefighters, have, another, tool, at, their, disposal, when, answering, calls, digital, doctors]\n",
       "3              [will, montana, expand, its, medicaid, program, some, moderates, there, have, revived, the, idea]\n",
       "4                                              [rand, paul, s, campaign, first, day, abortion, and, the, budget]\n",
       "Name: Review, dtype: object"
      ]
     },
     "execution_count": 22,
     "metadata": {},
     "output_type": "execute_result"
    }
   ],
   "source": [
    "Kaiser_df[\"Review\"] = Kaiser_df[\"Review\"].apply(lambda x: tokenizer.tokenize(x.lower()))\n",
    "Kaiser_df[\"Review\"].head()"
   ]
  },
  {
   "cell_type": "code",
   "execution_count": 23,
   "id": "468a3543-2541-49bf-925a-7cff0dcbf34d",
   "metadata": {},
   "outputs": [
    {
     "data": {
      "text/plain": [
       "0                                   [tougher, vaccine, law, calif, clears, first, hurdle]\n",
       "1                                [new, sort, extracurricular, activity, seeing, patients]\n",
       "2    [houston, firefighters, another, tool, disposal, answering, calls, digital, doctors]\n",
       "3                          [montana, expand, medicaid, program, moderates, revived, idea]\n",
       "4                                    [rand, paul, campaign, first, day, abortion, budget]\n",
       "Name: Review, dtype: object"
      ]
     },
     "execution_count": 23,
     "metadata": {},
     "output_type": "execute_result"
    }
   ],
   "source": [
    "Kaiser_df[\"Review\"] = Kaiser_df[\"Review\"].apply(lambda x: remove_stopwords(x))\n",
    "Kaiser_df[\"Review\"].head()"
   ]
  },
  {
   "cell_type": "code",
   "execution_count": 24,
   "id": "e6a79123-338b-4860-a396-d3ce2fbc383a",
   "metadata": {},
   "outputs": [
    {
     "data": {
      "text/plain": [
       "0                                 [tougher, vaccine, law, calif, clear, first, hurdle]\n",
       "1                              [new, sort, extracurricular, activity, seeing, patient]\n",
       "2    [houston, firefighter, another, tool, disposal, answering, call, digital, doctor]\n",
       "3                        [montana, expand, medicaid, program, moderate, revived, idea]\n",
       "4                                 [rand, paul, campaign, first, day, abortion, budget]\n",
       "Name: Review, dtype: object"
      ]
     },
     "execution_count": 24,
     "metadata": {},
     "output_type": "execute_result"
    }
   ],
   "source": [
    "Kaiser_df[\"Review\"] = Kaiser_df[\"Review\"].apply(lambda x: word_lemmatizer(x))\n",
    "Kaiser_df[\"Review\"].head()"
   ]
  },
  {
   "cell_type": "code",
   "execution_count": 16,
   "id": "b04432fe-0d53-425c-9795-405cd092e0ec",
   "metadata": {
    "tags": []
   },
   "outputs": [
    {
     "data": {
      "text/plain": [
       "0                      tougher vaccin law calif clear first hurdl\n",
       "1                      new sort extracurricular activ see patient\n",
       "2    houston firefight anoth tool dispos answer call digit doctor\n",
       "3                montana expand medicaid program moder reviv idea\n",
       "4                       rand paul campaign first day abort budget\n",
       "Name: Review, dtype: object"
      ]
     },
     "execution_count": 16,
     "metadata": {},
     "output_type": "execute_result"
    }
   ],
   "source": [
    "#Kaiser_df[\"Review\"] = Kaiser_df[\"Review\"].apply(lambda x: word_stemmer(x))\n",
    "#Kaiser_df[\"Review\"].head()"
   ]
  },
  {
   "cell_type": "code",
   "execution_count": 25,
   "id": "ed7c1b03-25ae-473e-a6ca-d6a588079c1f",
   "metadata": {},
   "outputs": [
    {
     "data": {
      "text/plain": [
       "0                               tougher vaccine law calif clear first hurdle\n",
       "1                           new sort extracurricular activity seeing patient\n",
       "2    houston firefighter another tool disposal answering call digital doctor\n",
       "3                      montana expand medicaid program moderate revived idea\n",
       "4                               rand paul campaign first day abortion budget\n",
       "Name: Review, dtype: object"
      ]
     },
     "execution_count": 25,
     "metadata": {},
     "output_type": "execute_result"
    }
   ],
   "source": [
    "Kaiser_df[\"Review\"] = Kaiser_df[\"Review\"].apply(lambda x: remove_punctuation(x))\n",
    "Kaiser_df[\"Review\"].head()"
   ]
  },
  {
   "cell_type": "code",
   "execution_count": 26,
   "id": "cb6e5ce2-eec3-4408-a0fd-25c80d6f6e17",
   "metadata": {
    "tags": []
   },
   "outputs": [
    {
     "data": {
      "text/html": [
       "<div>\n",
       "<style scoped>\n",
       "    .dataframe tbody tr th:only-of-type {\n",
       "        vertical-align: middle;\n",
       "    }\n",
       "\n",
       "    .dataframe tbody tr th {\n",
       "        vertical-align: top;\n",
       "    }\n",
       "\n",
       "    .dataframe thead th {\n",
       "        text-align: right;\n",
       "    }\n",
       "</style>\n",
       "<table border=\"1\" class=\"dataframe\">\n",
       "  <thead>\n",
       "    <tr style=\"text-align: right;\">\n",
       "      <th></th>\n",
       "      <th>0</th>\n",
       "      <th>1</th>\n",
       "      <th>2</th>\n",
       "    </tr>\n",
       "  </thead>\n",
       "  <tbody>\n",
       "    <tr>\n",
       "      <th>0</th>\n",
       "      <td>5.862830e+17</td>\n",
       "      <td>Thu Apr 09 21:40:16 +0000 2015</td>\n",
       "      <td>Los Angeles closes 500 medical marijuana shops</td>\n",
       "    </tr>\n",
       "    <tr>\n",
       "      <th>1</th>\n",
       "      <td>5.862790e+17</td>\n",
       "      <td>Thu Apr 09 21:24:27 +0000 2015</td>\n",
       "      <td>U.S. cuts poultry export forecast as deadly bird flu spreads http://reut.rs/1abCAQY</td>\n",
       "    </tr>\n",
       "    <tr>\n",
       "      <th>2</th>\n",
       "      <td>5.862730e+17</td>\n",
       "      <td>Thu Apr 09 21:04:15 +0000 2015</td>\n",
       "      <td>Fears over Roundup herbicide residues prompt private testing http://reut.rs/1DpfmCU</td>\n",
       "    </tr>\n",
       "    <tr>\n",
       "      <th>3</th>\n",
       "      <td>5.862550e+17</td>\n",
       "      <td>Thu Apr 09 19:49:50 +0000 2015</td>\n",
       "      <td>Liberia watchdog says some Ebola funds unaccounted for http://reut.rs/1Dp1vfF</td>\n",
       "    </tr>\n",
       "    <tr>\n",
       "      <th>4</th>\n",
       "      <td>5.862440e+17</td>\n",
       "      <td>Thu Apr 09 19:07:10 +0000 2015</td>\n",
       "      <td>Diabetes devices may interfere with avalanche beacon signals http://reut.rs/1DoTDLl</td>\n",
       "    </tr>\n",
       "  </tbody>\n",
       "</table>\n",
       "</div>"
      ],
      "text/plain": [
       "              0                               1  \\\n",
       "0  5.862830e+17  Thu Apr 09 21:40:16 +0000 2015   \n",
       "1  5.862790e+17  Thu Apr 09 21:24:27 +0000 2015   \n",
       "2  5.862730e+17  Thu Apr 09 21:04:15 +0000 2015   \n",
       "3  5.862550e+17  Thu Apr 09 19:49:50 +0000 2015   \n",
       "4  5.862440e+17  Thu Apr 09 19:07:10 +0000 2015   \n",
       "\n",
       "                                                                                     2  \n",
       "0                                       Los Angeles closes 500 medical marijuana shops  \n",
       "1  U.S. cuts poultry export forecast as deadly bird flu spreads http://reut.rs/1abCAQY  \n",
       "2  Fears over Roundup herbicide residues prompt private testing http://reut.rs/1DpfmCU  \n",
       "3        Liberia watchdog says some Ebola funds unaccounted for http://reut.rs/1Dp1vfF  \n",
       "4  Diabetes devices may interfere with avalanche beacon signals http://reut.rs/1DoTDLl  "
      ]
     },
     "execution_count": 26,
     "metadata": {},
     "output_type": "execute_result"
    }
   ],
   "source": [
    "reuters=pd.read_csv(\"reuters_health.csv\", header=None)\n",
    "reuters=reuters.drop(reuters.columns[3:5], axis=1)\n",
    "reuters.head()"
   ]
  },
  {
   "cell_type": "code",
   "execution_count": 36,
   "id": "e5029107-6e7b-434f-aa88-336d2f0a404c",
   "metadata": {
    "tags": []
   },
   "outputs": [
    {
     "data": {
      "text/html": [
       "<div>\n",
       "<style scoped>\n",
       "    .dataframe tbody tr th:only-of-type {\n",
       "        vertical-align: middle;\n",
       "    }\n",
       "\n",
       "    .dataframe tbody tr th {\n",
       "        vertical-align: top;\n",
       "    }\n",
       "\n",
       "    .dataframe thead th {\n",
       "        text-align: right;\n",
       "    }\n",
       "</style>\n",
       "<table border=\"1\" class=\"dataframe\">\n",
       "  <thead>\n",
       "    <tr style=\"text-align: right;\">\n",
       "      <th></th>\n",
       "      <th>ReviewID</th>\n",
       "      <th>ReviewTime</th>\n",
       "      <th>Review</th>\n",
       "    </tr>\n",
       "  </thead>\n",
       "  <tbody>\n",
       "    <tr>\n",
       "      <th>0</th>\n",
       "      <td>5.862830e+17</td>\n",
       "      <td>Thu Apr 09 21:40:16 +0000 2015</td>\n",
       "      <td>Los Angeles closes 500 medical marijuana shops</td>\n",
       "    </tr>\n",
       "    <tr>\n",
       "      <th>1</th>\n",
       "      <td>5.862790e+17</td>\n",
       "      <td>Thu Apr 09 21:24:27 +0000 2015</td>\n",
       "      <td>U.S. cuts poultry export forecast as deadly bird flu spreads http://reut.rs/1abCAQY</td>\n",
       "    </tr>\n",
       "    <tr>\n",
       "      <th>2</th>\n",
       "      <td>5.862730e+17</td>\n",
       "      <td>Thu Apr 09 21:04:15 +0000 2015</td>\n",
       "      <td>Fears over Roundup herbicide residues prompt private testing http://reut.rs/1DpfmCU</td>\n",
       "    </tr>\n",
       "    <tr>\n",
       "      <th>3</th>\n",
       "      <td>5.862550e+17</td>\n",
       "      <td>Thu Apr 09 19:49:50 +0000 2015</td>\n",
       "      <td>Liberia watchdog says some Ebola funds unaccounted for http://reut.rs/1Dp1vfF</td>\n",
       "    </tr>\n",
       "    <tr>\n",
       "      <th>4</th>\n",
       "      <td>5.862440e+17</td>\n",
       "      <td>Thu Apr 09 19:07:10 +0000 2015</td>\n",
       "      <td>Diabetes devices may interfere with avalanche beacon signals http://reut.rs/1DoTDLl</td>\n",
       "    </tr>\n",
       "  </tbody>\n",
       "</table>\n",
       "</div>"
      ],
      "text/plain": [
       "       ReviewID                      ReviewTime  \\\n",
       "0  5.862830e+17  Thu Apr 09 21:40:16 +0000 2015   \n",
       "1  5.862790e+17  Thu Apr 09 21:24:27 +0000 2015   \n",
       "2  5.862730e+17  Thu Apr 09 21:04:15 +0000 2015   \n",
       "3  5.862550e+17  Thu Apr 09 19:49:50 +0000 2015   \n",
       "4  5.862440e+17  Thu Apr 09 19:07:10 +0000 2015   \n",
       "\n",
       "                                                                                Review  \n",
       "0                                       Los Angeles closes 500 medical marijuana shops  \n",
       "1  U.S. cuts poultry export forecast as deadly bird flu spreads http://reut.rs/1abCAQY  \n",
       "2  Fears over Roundup herbicide residues prompt private testing http://reut.rs/1DpfmCU  \n",
       "3        Liberia watchdog says some Ebola funds unaccounted for http://reut.rs/1Dp1vfF  \n",
       "4  Diabetes devices may interfere with avalanche beacon signals http://reut.rs/1DoTDLl  "
      ]
     },
     "execution_count": 36,
     "metadata": {},
     "output_type": "execute_result"
    }
   ],
   "source": [
    "# Named Columns for reuters_df\n",
    "reuters_df[\"ReviewID\"]=reuters[0]\n",
    "reuters_df[\"ReviewTime\"]=reuters[1]\n",
    "reuters_df[\"Review\"]=reuters[2]\n",
    "#reuters_df.drop(reuters.columns[0:3], axis=1, inplace=True)\n",
    "reuters_df.head()"
   ]
  },
  {
   "cell_type": "code",
   "execution_count": 30,
   "id": "de73afc6-cc17-4502-a193-77a90dcadc16",
   "metadata": {},
   "outputs": [
    {
     "data": {
      "text/plain": [
       "0                   Los Angeles closes 500 medical marijuana shops\n",
       "1    U.S. cuts poultry export forecast as deadly bird flu spreads \n",
       "2    Fears over Roundup herbicide residues prompt private testing \n",
       "3          Liberia watchdog says some Ebola funds unaccounted for \n",
       "4    Diabetes devices may interfere with avalanche beacon signals \n",
       "Name: Review, dtype: object"
      ]
     },
     "execution_count": 30,
     "metadata": {},
     "output_type": "execute_result"
    }
   ],
   "source": [
    "reuters_df[\"Review\"] = reuters_df[\"Review\"].apply(lambda x: remove_urls(x))\n",
    "reuters_df[\"Review\"].head()"
   ]
  },
  {
   "cell_type": "code",
   "execution_count": 31,
   "id": "e202b12b-4287-458d-987b-4fda147ca766",
   "metadata": {},
   "outputs": [
    {
     "data": {
      "text/plain": [
       "0                     [los, angeles, closes, 500, medical, marijuana, shops]\n",
       "1    [u, s, cuts, poultry, export, forecast, as, deadly, bird, flu, spreads]\n",
       "2      [fears, over, roundup, herbicide, residues, prompt, private, testing]\n",
       "3            [liberia, watchdog, says, some, ebola, funds, unaccounted, for]\n",
       "4      [diabetes, devices, may, interfere, with, avalanche, beacon, signals]\n",
       "Name: Review, dtype: object"
      ]
     },
     "execution_count": 31,
     "metadata": {},
     "output_type": "execute_result"
    }
   ],
   "source": [
    "reuters_df[\"Review\"] = reuters_df[\"Review\"].apply(lambda x: tokenizer.tokenize(x.lower()))\n",
    "reuters_df[\"Review\"].head()"
   ]
  },
  {
   "cell_type": "code",
   "execution_count": 37,
   "id": "74a92b4d-06af-40d1-a70c-16360232d2af",
   "metadata": {},
   "outputs": [
    {
     "data": {
      "text/plain": [
       "0                                                                                        [L,  , A, n, g, e, l, e,  , c, l, e,  , 5, 0, 0,  , e, c, l,  , r, j, u, n,  , h, p]\n",
       "1       [U, ., S, .,  , c, u,  , p, u, l, r,  , e, x, p, r,  , f, r, e, c,  ,  , e, l,  , b, r,  , f, l, u,  , p, r, e,  , h, p, :, /, /, r, e, u, ., r, /, 1, b, C, A, Q, Y]\n",
       "2    [F, e, r,  , v, e, r,  , R, u, n, u, p,  , h, e, r, b, c, e,  , r, e, u, e,  , p, r, p,  , p, r, v, e,  , e, n, g,  , h, p, :, /, /, r, e, u, ., r, /, 1, D, p, f, C, U]\n",
       "3                      [L, b, e, r,  , w, c, h, g,  ,  , e,  , E, b, l,  , f, u, n,  , u, n, c, c, u, n, e,  , f, r,  , h, p, :, /, /, r, e, u, ., r, /, 1, D, p, 1, v, f, F]\n",
       "4       [D, b, e, e,  , e, v, c, e,  ,  , n, e, r, f, e, r, e,  , w, h,  , v, l, n, c, h, e,  , b, e, c, n,  , g, n, l,  , h, p, :, /, /, r, e, u, ., r, /, 1, D, T, D, L, l]\n",
       "Name: Review, dtype: object"
      ]
     },
     "execution_count": 37,
     "metadata": {},
     "output_type": "execute_result"
    }
   ],
   "source": [
    "reuters_df[\"Review\"] = reuters_df[\"Review\"].apply(lambda x: remove_stopwords(x))\n",
    "reuters_df[\"Review\"].head()"
   ]
  },
  {
   "cell_type": "code",
   "execution_count": 33,
   "id": "8a5f6712-74d6-488e-9356-63291e89e6b4",
   "metadata": {},
   "outputs": [
    {
     "data": {
      "text/plain": [
       "0              [los, angeles, close, 500, medical, marijuana, shop]\n",
       "1    [u, cut, poultry, export, forecast, deadly, bird, flu, spread]\n",
       "2     [fear, roundup, herbicide, residue, prompt, private, testing]\n",
       "3                [liberia, watchdog, say, ebola, fund, unaccounted]\n",
       "4     [diabetes, device, may, interfere, avalanche, beacon, signal]\n",
       "Name: Review, dtype: object"
      ]
     },
     "execution_count": 33,
     "metadata": {},
     "output_type": "execute_result"
    }
   ],
   "source": [
    "reuters_df[\"Review\"] = reuters_df[\"Review\"].apply(lambda x: word_lemmatizer(x))\n",
    "reuters_df[\"Review\"].head()"
   ]
  },
  {
   "cell_type": "code",
   "execution_count": 39,
   "id": "b7e665f1-a397-4bcb-897c-6a6cc38a022a",
   "metadata": {},
   "outputs": [
    {
     "data": {
      "text/plain": [
       "0                 lo angel close 500 medic marijuana shop\n",
       "1    u cut poultri export forecast deadli bird flu spread\n",
       "2         fear roundup herbicid residu prompt privat test\n",
       "3               liberia watchdog say ebola fund unaccount\n",
       "4        diabet devic may interfer avalanch beacon signal\n",
       "Name: Review, dtype: object"
      ]
     },
     "execution_count": 39,
     "metadata": {},
     "output_type": "execute_result"
    }
   ],
   "source": [
    "#reuters_df[\"Review\"] = reuters_df[\"Review\"].apply(lambda x: word_stemmer(x))\n",
    "#reuters_df[\"Review\"].head()"
   ]
  },
  {
   "cell_type": "code",
   "execution_count": 34,
   "id": "3067b392-e8a2-4edb-96d8-b020520e62be",
   "metadata": {},
   "outputs": [
    {
     "data": {
      "text/plain": [
       "0             los angeles close 500 medical marijuana shop\n",
       "1     u cut poultry export forecast deadly bird flu spread\n",
       "2    fear roundup herbicide residue prompt private testing\n",
       "3              liberia watchdog say ebola fund unaccounted\n",
       "4    diabetes device may interfere avalanche beacon signal\n",
       "Name: Review, dtype: object"
      ]
     },
     "execution_count": 34,
     "metadata": {},
     "output_type": "execute_result"
    }
   ],
   "source": [
    "reuters_df[\"Review\"] = reuters_df[\"Review\"].apply(lambda x: remove_punctuation(x))\n",
    "reuters_df[\"Review\"].head()"
   ]
  },
  {
   "cell_type": "code",
   "execution_count": 35,
   "id": "e7537530-ec9a-4340-89a3-111cb51fb66b",
   "metadata": {},
   "outputs": [],
   "source": [
    "Kaiser_df.to_csv(\"Kaiser_df.csv\", index=False)\n",
    "reuters_df.to_csv(\"reuters_df.csv\", index=False)"
   ]
  },
  {
   "cell_type": "code",
   "execution_count": null,
   "id": "fcf75a33-05bd-4ee5-9fa0-c6e8c41c0a66",
   "metadata": {},
   "outputs": [],
   "source": []
  }
 ],
 "metadata": {
  "kernelspec": {
   "display_name": "Python 3 (ipykernel)",
   "language": "python",
   "name": "python3"
  },
  "language_info": {
   "codemirror_mode": {
    "name": "ipython",
    "version": 3
   },
   "file_extension": ".py",
   "mimetype": "text/x-python",
   "name": "python",
   "nbconvert_exporter": "python",
   "pygments_lexer": "ipython3",
   "version": "3.9.7"
  }
 },
 "nbformat": 4,
 "nbformat_minor": 5
}
